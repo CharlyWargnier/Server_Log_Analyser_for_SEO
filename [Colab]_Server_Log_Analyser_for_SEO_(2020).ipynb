{
  "nbformat": 4,
  "nbformat_minor": 0,
  "metadata": {
    "kernelspec": {
      "language": "python",
      "display_name": "Python 3",
      "name": "python3"
    },
    "language_info": {
      "pygments_lexer": "ipython3",
      "nbconvert_exporter": "python",
      "version": "3.6.4",
      "file_extension": ".py",
      "codemirror_mode": {
        "name": "ipython",
        "version": 3
      },
      "name": "python",
      "mimetype": "text/x-python"
    },
    "colab": {
      "name": "[Colab] Server Log Analyser for SEO (2020)",
      "provenance": [],
      "collapsed_sections": [],
      "include_colab_link": true
    }
  },
  "cells": [
    {
      "cell_type": "markdown",
      "metadata": {
        "id": "view-in-github",
        "colab_type": "text"
      },
      "source": [
        "<a href=\"https://colab.research.google.com/github/CharlyWargnier/Server_Log_Analyser_for_SEO/blob/master/%5BColab%5D_Server_Log_Analyser_for_SEO_(2020).ipynb\" target=\"_parent\"><img src=\"https://colab.research.google.com/assets/colab-badge.svg\" alt=\"Open In Colab\"/></a>"
      ]
    },
    {
      "cell_type": "markdown",
      "metadata": {
        "id": "ioK6d70xtON4",
        "colab_type": "text"
      },
      "source": [
        "\n",
        "![alt text](https://i.ibb.co/3fWYYMv/banner-03-smaller.jpg)\n",
        "\n",
        "*This notebook relies on Python, Google Cloud Platform and BigQuery"
      ]
    },
    {
      "cell_type": "markdown",
      "metadata": {
        "colab_type": "text",
        "id": "WyLogcxGzDPB"
      },
      "source": [
        "# Import libraries + Google Cloud Platform authentication"
      ]
    },
    {
      "cell_type": "markdown",
      "metadata": {
        "id": "kQ0Lzuw2bNRr",
        "colab_type": "text"
      },
      "source": [
        "We’ll start by running the cell below!"
      ]
    },
    {
      "cell_type": "code",
      "metadata": {
        "id": "JQ8MzUhwxw4P",
        "colab_type": "code",
        "colab": {}
      },
      "source": [
        "# Import libraries \n",
        "import pandas as pd\n",
        "import numpy as np\n",
        "import socket\n",
        "import json\n",
        "\n",
        "#Connect Python to your GCP project\n",
        "from google.colab import auth\n",
        "auth.authenticate_user()"
      ],
      "execution_count": 0,
      "outputs": []
    },
    {
      "cell_type": "markdown",
      "metadata": {
        "id": "GzLBIOnvWa3t",
        "colab_type": "text"
      },
      "source": [
        "# Connect to Google Cloud Storage (GCS) & BigQuery"
      ]
    },
    {
      "cell_type": "markdown",
      "metadata": {
        "id": "SovQUl50Va7O",
        "colab_type": "text"
      },
      "source": [
        "## Enter your GCP project ID & bucket location\n",
        "To find your bucket location, go to your GCP -> storage -> browser -> check location in table\n",
        "\n"
      ]
    },
    {
      "cell_type": "code",
      "metadata": {
        "_uuid": "d629ff2d2480ee46fbb7e2d37f6b5fab8052498a",
        "_cell_guid": "79c7e3d0-c299-4dcb-8224-4455121ee9b0",
        "trusted": true,
        "id": "nCXif3coxef-",
        "colab_type": "code",
        "cellView": "form",
        "colab": {}
      },
      "source": [
        "# Import BigQuery from google.cloud\n",
        "from google.cloud import bigquery\n",
        "\n",
        "## Inputs from forms ##\n",
        "\n",
        "GCP_PROJECT_ID = 'learned-spider-266010' #@param {type:\"string\"}\n",
        "\n",
        "GCS_Bucket_Location = 'europe-west2' #@param [\"asia-east1\",\t\"asia-east2\",\t\"asia-northeast1\",\t\"asia-northeast2\",\t\"asia-northeast3\",\t\"asia-south1\",\t\"asia-southeast1\",\t\"australia-southeast1\",\t\"europe-north1\",\t\"europe-west1\",\t\"europe-west2\",\t\"europe-west3\",\t\"europe-west4\",\t\"europe-west6\",\t\"northamerica-northeast1\",\t\"southamerica-east1\",\t\"us-central1\",\t\"us-east1\",\t\"us-east4\",\t\"us-west1\",\t\"us-west2\"]\n",
        "\n",
        "# Create a client instance for your project\n",
        "client = bigquery.Client(project=GCP_PROJECT_ID, location=GCS_Bucket_Location)\n"
      ],
      "execution_count": 0,
      "outputs": []
    },
    {
      "cell_type": "markdown",
      "metadata": {
        "colab_type": "text",
        "id": "RkOD6J8aV33N"
      },
      "source": [
        "## Add your GCS bucket name and file path to query\n",
        "*   To find your bucket name, go to your GCP -> storage -> browser -> check 'name' in table\n",
        "\n",
        "*   A wildcard (*) must be used to query several files at once\n",
        "\n",
        "\n",
        "\n"
      ]
    },
    {
      "cell_type": "code",
      "metadata": {
        "id": "kRX9InN4nRWt",
        "colab_type": "code",
        "cellView": "form",
        "outputId": "2d0c74d9-8b16-42e7-ec80-b99ac2cf7cf4",
        "colab": {
          "base_uri": "https://localhost:8080/",
          "height": 35
        }
      },
      "source": [
        "GCS_Bucket_Name = 'apache_seo_logs' #@param {type:\"string\"}\n",
        "\n",
        "GCS_File_Path = 'Loggy*' #@param {type:\"string\"}\n",
        "\n",
        "GCS_Full_Path = \"gs://\" + GCS_Bucket_Name + \"/\" + GCS_File_Path\n",
        "\n",
        "print(\"the path to your GCS folder is: \" + GCS_Full_Path)"
      ],
      "execution_count": 0,
      "outputs": [
        {
          "output_type": "stream",
          "text": [
            "the path to your GCS folder is: gs://apache_seo_logs/Loggy*\n"
          ],
          "name": "stdout"
        }
      ]
    },
    {
      "cell_type": "markdown",
      "metadata": {
        "colab_type": "text",
        "id": "int9zAk45H9a"
      },
      "source": [
        "## Apply SQL filtering\n",
        "\n",
        "All the files in the file path specified in the form above will now be queried and merged into a temporary Bigquery table:\n",
        "\n",
        "*   First, give that table a name (1st form field)\n",
        "\n",
        "I have then created 2 SQL queries (form field #2 and #3 below):\n",
        "\n",
        "*   ‘SQL_1st_Filter’: to filter any text\n",
        "*   ‘SQL_Useragent_Filter’: to select your User-Agent, via a drop-down\n",
        "\n",
        "Feel free to check the underlying code and tweak these 2 queries to your needs!\n",
        "\n",
        "If your SQL trivia is a bit rusty, here’s a [good refresher from Kaggle](https://www.kaggle.com/learn/intro-to-sql)!\n",
        "\n",
        "\n",
        "\n",
        "\n",
        "\n",
        "\n"
      ]
    },
    {
      "cell_type": "code",
      "metadata": {
        "id": "Uooe2RzYkxtY",
        "colab_type": "code",
        "cellView": "form",
        "colab": {}
      },
      "source": [
        "## Form elements ##\n",
        "\n",
        "table_name = 'log_sample' #@param {type:\"string\"}\n",
        "SQL_1st_Filter ='' #@param {type:\"string\"}\n",
        "SQL_Useragent_Filter = \"\" #@param [\"Googlebot/2.1\", \"YandexBot\", \"BingBot\", \"DuckDuckBot\", \"Baiduspider\"] {allow-input: true}\n",
        "# Temporary Bigquery table name\n",
        "table_id = table_name\n",
        "\n",
        "## Full SQL query ##\n",
        "SQLFilters = 'SELECT * FROM `{}` WHERE header LIKE \"%' + SQL_1st_Filter + '%\" AND header LIKE \"%' + SQL_Useragent_Filter + '%\"'\n",
        "sql = SQLFilters.format(table_id)\n",
        "\n",
        "## Other config lines for BigQuery ##\n",
        "\n",
        "# Configure the external data source and query job\n",
        "external_config = bigquery.ExternalConfig(\"CSV\")\n",
        "external_config.source_uris = [GCS_Full_Path]\n",
        "# 1st argument is where you ut the name of the header, here it is called 'header'                       \n",
        "external_config.schema = [bigquery.SchemaField(\"header\", \"STRING\"),]\n",
        "# Should remain at 0 for default log file upload\n",
        "external_config.options.skip_leading_rows = 0\n",
        "# BigQuery job configuration\n",
        "job_config = bigquery.QueryJobConfig(table_definitions={table_id: external_config})\n",
        "# Auto-detect Schemas (hashed as not currently in use)\n",
        "# job_config.autodetect = True\n",
        "\n",
        "# Make an API request\n",
        "query_job = client.query(sql, job_config=job_config)  \n",
        "# Wait for the job to complete.\n",
        "log_sample = list(query_job)\n",
        "\n",
        "# Print SQL query sent to BigQuery\n",
        "print('The SQL query sent to BigQuery is \"' + SQLFilters + '\"')\n",
        "\n",
        "#log_sample"
      ],
      "execution_count": 0,
      "outputs": []
    },
    {
      "cell_type": "markdown",
      "metadata": {
        "id": "46SzgoeUQed0",
        "colab_type": "text"
      },
      "source": [
        "The output generated by BigQuery is a two-dimensional list (also called ‘list of lists’). We’ll need to convert it to a Pandas Dataframe via this code:"
      ]
    },
    {
      "cell_type": "code",
      "metadata": {
        "id": "HNVQvyaSPmWR",
        "colab_type": "code",
        "colab": {}
      },
      "source": [
        "# Note that we convert a list of lists, not just a list.\n",
        "df = pd.DataFrame.from_records(log_sample)\n",
        "#df.info()"
      ],
      "execution_count": 0,
      "outputs": []
    },
    {
      "cell_type": "markdown",
      "metadata": {
        "id": "YZOSZkjy8o2q",
        "colab_type": "text"
      },
      "source": [
        "# Data Splitting/Cleansing"
      ]
    },
    {
      "cell_type": "markdown",
      "metadata": {
        "colab_type": "text",
        "id": "G57Uuf_3Lpv-"
      },
      "source": [
        "Time to make these cryptic logs a bit more presentable by:\n",
        "\n",
        "*   Splitting each element\n",
        "*   Creating a column for each element\n",
        "\n"
      ]
    },
    {
      "cell_type": "markdown",
      "metadata": {
        "colab_type": "text",
        "id": "CR7yYbDgOKi2"
      },
      "source": [
        "Name our unique column 'header'"
      ]
    },
    {
      "cell_type": "code",
      "metadata": {
        "colab_type": "code",
        "id": "Uruu3eoaLpwG",
        "colab": {}
      },
      "source": [
        "df.rename(columns={0:'header'}, inplace=True)\n",
        "df = df.iloc[1:]"
      ],
      "execution_count": 0,
      "outputs": []
    },
    {
      "cell_type": "markdown",
      "metadata": {
        "id": "9yAQkZn26RyG",
        "colab_type": "text"
      },
      "source": [
        "Split IP addresses"
      ]
    },
    {
      "cell_type": "code",
      "metadata": {
        "id": "4q7KnZMW9Y-R",
        "colab_type": "code",
        "colab": {}
      },
      "source": [
        "# Split IP addresses\n",
        "df[['IP','header']] = df[\"header\"].str.split(\" - - \\[\", 1, expand=True)\n",
        "# Remove slash\n",
        "df['IP'] = df['IP'].str.replace(\"Row\\(\\('\",\"\",n=1)"
      ],
      "execution_count": 0,
      "outputs": []
    },
    {
      "cell_type": "markdown",
      "metadata": {
        "id": "Di-FH5q9IeSV",
        "colab_type": "text"
      },
      "source": [
        "Split dates and times"
      ]
    },
    {
      "cell_type": "code",
      "metadata": {
        "id": "zO2sxiPKyXzJ",
        "colab_type": "code",
        "colab": {}
      },
      "source": [
        "# Split Date & Time\n",
        "df[['Date_Time', 'header']] = df['header'].str.split(\"\\] \", 1,\n",
        "        expand=True)\n",
        "df['Date_Time'] = df['Date_Time'].str.replace(':.*', '')\n",
        "\n",
        "# Convert the Date_Time column from string to datetime format\n",
        "df['Date'] = pd.to_datetime(df['Date_Time'], errors='coerce',\n",
        "                            infer_datetime_format=True)\n",
        "\n",
        "# Remove Time column, for clarity's sake\n",
        "df = df.drop(['Date_Time'], axis=1)\n",
        "\n",
        "# Check that the Date column has been converted to a time series\n",
        "#df.info()"
      ],
      "execution_count": 0,
      "outputs": []
    },
    {
      "cell_type": "markdown",
      "metadata": {
        "id": "tLYu59mf5vtH",
        "colab_type": "text"
      },
      "source": [
        "Split domains"
      ]
    },
    {
      "cell_type": "code",
      "metadata": {
        "id": "BbcbdVD35LyI",
        "colab_type": "code",
        "colab": {}
      },
      "source": [
        "df[['Domain','header']] = df[\"header\"].str.split(\" \\\"\", 1, expand=True)"
      ],
      "execution_count": 0,
      "outputs": []
    },
    {
      "cell_type": "markdown",
      "metadata": {
        "id": "e1UmGaz25wGo",
        "colab_type": "text"
      },
      "source": [
        "Split methods (Get, Post etc...)"
      ]
    },
    {
      "cell_type": "code",
      "metadata": {
        "id": "sJSf9Cyr5Lu9",
        "colab_type": "code",
        "colab": {}
      },
      "source": [
        "df[['Method','header']] = df[\"header\"].str.split(\" \", 1, expand=True)"
      ],
      "execution_count": 0,
      "outputs": []
    },
    {
      "cell_type": "markdown",
      "metadata": {
        "id": "CnjTylij52t_",
        "colab_type": "text"
      },
      "source": [
        "Split URLs"
      ]
    },
    {
      "cell_type": "code",
      "metadata": {
        "id": "vf1lHtti5Lrn",
        "colab_type": "code",
        "colab": {}
      },
      "source": [
        "df[['url','header']] = df[\"header\"].str.split(\" \", 1, expand=True)\n",
        "# Remove slash (/) at the start of each URL\n",
        "df['url'] = df['url'].str.replace('/','',n=1)"
      ],
      "execution_count": 0,
      "outputs": []
    },
    {
      "cell_type": "markdown",
      "metadata": {
        "id": "BkMiVE5V51rG",
        "colab_type": "text"
      },
      "source": [
        "Split protocols"
      ]
    },
    {
      "cell_type": "code",
      "metadata": {
        "id": "Fkm_iDd_5Lnx",
        "colab_type": "code",
        "colab": {}
      },
      "source": [
        "df[['httpProto','header']] = df[\"header\"].str.split(\"\\\" \", 1, expand=True)"
      ],
      "execution_count": 0,
      "outputs": []
    },
    {
      "cell_type": "markdown",
      "metadata": {
        "id": "yDEdu8P956LO",
        "colab_type": "text"
      },
      "source": [
        "Split status codes"
      ]
    },
    {
      "cell_type": "code",
      "metadata": {
        "id": "JRycsYDY5LkZ",
        "colab_type": "code",
        "colab": {}
      },
      "source": [
        "df[['httpCode','header']] = df[\"header\"].str.split(\" \", 1, expand=True)"
      ],
      "execution_count": 0,
      "outputs": []
    },
    {
      "cell_type": "markdown",
      "metadata": {
        "id": "gUkMoAo356y_",
        "colab_type": "text"
      },
      "source": [
        "Split 'time taken'\n"
      ]
    },
    {
      "cell_type": "code",
      "metadata": {
        "id": "BAh6sUmi5LgJ",
        "colab_type": "code",
        "colab": {}
      },
      "source": [
        "df[['timeTaken','header']] = df[\"header\"].str.split(\" \", 1, expand=True)"
      ],
      "execution_count": 0,
      "outputs": []
    },
    {
      "cell_type": "markdown",
      "metadata": {
        "id": "0D89OGQc57Wo",
        "colab_type": "text"
      },
      "source": [
        "Split referral URLs\n"
      ]
    },
    {
      "cell_type": "code",
      "metadata": {
        "id": "p_L2KiTb5LTO",
        "colab_type": "code",
        "colab": {}
      },
      "source": [
        "df[['urlRef','header']] = df[\"header\"].str.split(\" \", 1, expand=True)\n",
        "df['urlRef'] = df['urlRef'].str.replace('\\\"', '')"
      ],
      "execution_count": 0,
      "outputs": []
    },
    {
      "cell_type": "markdown",
      "metadata": {
        "id": "y7ONw00i6KWh",
        "colab_type": "text"
      },
      "source": [
        "Split User Agents\n"
      ]
    },
    {
      "cell_type": "code",
      "metadata": {
        "id": "YUM0CPbx5UUv",
        "colab_type": "code",
        "colab": {}
      },
      "source": [
        "df[['userAgent','header']] = df[\"header\"].str.split(\"\\\" \", 1, expand=True)"
      ],
      "execution_count": 0,
      "outputs": []
    },
    {
      "cell_type": "markdown",
      "metadata": {
        "id": "n7aRYn4i6Loy",
        "colab_type": "text"
      },
      "source": [
        "Split redirected URLs (when existing)"
      ]
    },
    {
      "cell_type": "code",
      "metadata": {
        "id": "kma47jFy5URU",
        "colab_type": "code",
        "colab": {}
      },
      "source": [
        "df[['remainder','header']] = df[\"header\"].str.split('\".*LOCATION=30.-', 1, expand=True)\n",
        "df['header'] = df['header'].str.replace('\\\"', '')"
      ],
      "execution_count": 0,
      "outputs": []
    },
    {
      "cell_type": "markdown",
      "metadata": {
        "colab_type": "text",
        "id": "83ZDw7HnMxws"
      },
      "source": [
        "Re-order columns"
      ]
    },
    {
      "cell_type": "code",
      "metadata": {
        "id": "dOoPuA25pTXl",
        "colab_type": "code",
        "colab": {}
      },
      "source": [
        "df = df[['IP','Date','Domain','Method','url','httpProto','httpCode','timeTaken','urlRef', 'userAgent','header']]\n",
        "df.rename(columns={\"header\": \"redirURL\"}, inplace=True)"
      ],
      "execution_count": 0,
      "outputs": []
    },
    {
      "cell_type": "markdown",
      "metadata": {
        "id": "RpBDiw0v6MfG",
        "colab_type": "text"
      },
      "source": [
        "Check the output table, to ensure all is OK"
      ]
    },
    {
      "cell_type": "code",
      "metadata": {
        "id": "5DGkzDaVyVYQ",
        "colab_type": "code",
        "colab": {}
      },
      "source": [
        "df.head(1)"
      ],
      "execution_count": 0,
      "outputs": []
    },
    {
      "cell_type": "markdown",
      "metadata": {
        "id": "pBjDPklNADkV",
        "colab_type": "text"
      },
      "source": [
        "# Create categorical columns"
      ]
    },
    {
      "cell_type": "markdown",
      "metadata": {
        "id": "m6aXz9QmATAM",
        "colab_type": "text"
      },
      "source": [
        "## Create a new column to categorise status codes"
      ]
    },
    {
      "cell_type": "code",
      "metadata": {
        "id": "G3zc3xcMTx7S",
        "colab_type": "code",
        "colab": {}
      },
      "source": [
        "df['httpCodeClass'] = pd.np.where(df.httpCode.str.contains(\"^1.*\"), 'Info (1XX)',\n",
        "  pd.np.where(df.httpCode.str.contains(\"^2.*\"), 'Success (2XX)',\n",
        "    pd.np.where(df.httpCode.str.contains(\"^3.*\"), 'Redirects (3XX)',\n",
        "      pd.np.where(df.httpCode.str.contains(\"^4.*\"), 'Client errors (4XX)', 'Server errors (5XX)'))))"
      ],
      "execution_count": 0,
      "outputs": []
    },
    {
      "cell_type": "markdown",
      "metadata": {
        "id": "Z8VCZ7YnAQun",
        "colab_type": "text"
      },
      "source": [
        "## Create a column to categorise Search Engine Bots\n"
      ]
    },
    {
      "cell_type": "code",
      "metadata": {
        "id": "jbreME3YAr-K",
        "colab_type": "code",
        "colab": {}
      },
      "source": [
        "df['SEBotClass'] = pd.np.where(df.userAgent.str.contains(\"YandexBot\"), \"YandexBot\",\n",
        "  pd.np.where(df.userAgent.str.contains(\"bingbot\"), \"BingBot\",\n",
        "    pd.np.where(df.userAgent.str.contains(\"DuckDuckBot\"), \"DuckDuckGo\",\n",
        "      pd.np.where(df.userAgent.str.contains(\"Baiduspider\"), \"Baidu\",\n",
        "        pd.np.where(df.userAgent.str.contains(\"Googlebot/2.1\"), \"GoogleBot\", \"Else\")))))"
      ],
      "execution_count": 0,
      "outputs": []
    },
    {
      "cell_type": "markdown",
      "metadata": {
        "id": "T_sTQ84gMVdA",
        "colab_type": "text"
      },
      "source": [
        "Check the output table, to ensure all is OK"
      ]
    },
    {
      "cell_type": "code",
      "metadata": {
        "id": "hEldndqCMNma",
        "colab_type": "code",
        "outputId": "63d0de7f-4bcb-45ee-d2f9-bbf62d3f8277",
        "colab": {
          "base_uri": "https://localhost:8080/",
          "height": 265
        }
      },
      "source": [
        "df.head(1)"
      ],
      "execution_count": 0,
      "outputs": [
        {
          "output_type": "execute_result",
          "data": {
            "text/html": [
              "<div>\n",
              "<style scoped>\n",
              "    .dataframe tbody tr th:only-of-type {\n",
              "        vertical-align: middle;\n",
              "    }\n",
              "\n",
              "    .dataframe tbody tr th {\n",
              "        vertical-align: top;\n",
              "    }\n",
              "\n",
              "    .dataframe thead th {\n",
              "        text-align: right;\n",
              "    }\n",
              "</style>\n",
              "<table border=\"1\" class=\"dataframe\">\n",
              "  <thead>\n",
              "    <tr style=\"text-align: right;\">\n",
              "      <th></th>\n",
              "      <th>IP</th>\n",
              "      <th>Date</th>\n",
              "      <th>Domain</th>\n",
              "      <th>Method</th>\n",
              "      <th>url</th>\n",
              "      <th>httpProto</th>\n",
              "      <th>httpCode</th>\n",
              "      <th>timeTaken</th>\n",
              "      <th>urlRef</th>\n",
              "      <th>userAgent</th>\n",
              "      <th>redirURL</th>\n",
              "      <th>httpCodeClass</th>\n",
              "      <th>SEBotClass</th>\n",
              "    </tr>\n",
              "  </thead>\n",
              "  <tbody>\n",
              "    <tr>\n",
              "      <th>1</th>\n",
              "      <td>62.235.238.71</td>\n",
              "      <td>2016-10-18</td>\n",
              "      <td>be.loggy.com</td>\n",
              "      <td>GET</td>\n",
              "      <td>be.loggy.com/dames</td>\n",
              "      <td>HTTP/1.1</td>\n",
              "      <td>200</td>\n",
              "      <td>28559</td>\n",
              "      <td>https://be.loggy.com/?cmpid=ch:sea|dp:ecom|so:...</td>\n",
              "      <td>\"Mozilla/5.0 (Macintosh; Intel Mac OS X 10_11_...</td>\n",
              "      <td>None</td>\n",
              "      <td>Success (2XX)</td>\n",
              "      <td>Else</td>\n",
              "    </tr>\n",
              "    <tr>\n",
              "      <th>2</th>\n",
              "      <td>62.235.238.71</td>\n",
              "      <td>2016-10-18</td>\n",
              "      <td>be.loggy.com</td>\n",
              "      <td>GET</td>\n",
              "      <td>be.loggy.com/dames</td>\n",
              "      <td>HTTP/1.1</td>\n",
              "      <td>200</td>\n",
              "      <td>28541</td>\n",
              "      <td>https://be.loggy.com/dames</td>\n",
              "      <td>\"Mozilla/5.0 (Macintosh; Intel Mac OS X 10_11_...</td>\n",
              "      <td>None</td>\n",
              "      <td>Success (2XX)</td>\n",
              "      <td>Else</td>\n",
              "    </tr>\n",
              "  </tbody>\n",
              "</table>\n",
              "</div>"
            ],
            "text/plain": [
              "              IP       Date        Domain  ... redirURL  httpCodeClass SEBotClass\n",
              "1  62.235.238.71 2016-10-18  be.loggy.com  ...     None  Success (2XX)       Else\n",
              "2  62.235.238.71 2016-10-18  be.loggy.com  ...     None  Success (2XX)       Else\n",
              "\n",
              "[2 rows x 13 columns]"
            ]
          },
          "metadata": {
            "tags": []
          },
          "execution_count": 114
        }
      ]
    },
    {
      "cell_type": "markdown",
      "metadata": {
        "colab_type": "text",
        "id": "DthfBz9IYebe"
      },
      "source": [
        "# Spotting ‘spoofed’ Search Engine Bots\n"
      ]
    },
    {
      "cell_type": "markdown",
      "metadata": {
        "id": "jQMnDyxDtbv1",
        "colab_type": "text"
      },
      "source": [
        "The function below verifies that IP addresses are genuinely from Googlebot.  The column 'isRealGbot?' will be created for that matter.\n",
        "\n",
        "All credit due to [Tyler Reardon](https://twitter.com/) for that magic anti-spoofing detector! Initially available on [searchtools.io](https://www.searchtools.io/), the script in this notebook has been improved to cater for larger datasets."
      ]
    },
    {
      "cell_type": "code",
      "metadata": {
        "id": "vNmzg_DbPUdP",
        "colab_type": "code",
        "cellView": "form",
        "colab": {}
      },
      "source": [
        "#@markdown By running this cell, the IP addresses from 'assumed' GoogleBots UserAgents in our dataframe will be checked. (Double-click this cell to unhide the code).\n",
        "\n",
        "#@markdown ---\n",
        "\n",
        "## Step 01 - De-dupe IP addresses, assess assumed GoogleBot UAs\n",
        "\n",
        "df2 = df.drop_duplicates(subset=['IP'])\n",
        "df2 = df2[df2['SEBotClass'].str.contains(\"GoogleBot\")]\n",
        "df2 = df2.loc[:, df2.columns.intersection(['IP'])]\n",
        "\n",
        "## Step 02 - Define the reverse-DNS function\n",
        "\n",
        "def reverse_dns(ip_address):\n",
        "    '''\n",
        "    This method returns the true host name for a \n",
        "    given IP address\n",
        "    '''\n",
        "    host_name = socket.gethostbyaddr(ip_address)\n",
        "    reversed_dns = host_name[0]\n",
        "    return reversed_dns\n",
        "\n",
        "def forward_dns(reversed_dns):\n",
        "    '''\n",
        "    This method returns the first IP address string\n",
        "    that responds as the given domain name\n",
        "    '''\n",
        "    try:\n",
        "        data = socket.gethostbyname(reversed_dns)\n",
        "        ip = str(data)\n",
        "        return ip\n",
        "    except Exception:\n",
        "        print('error')\n",
        "        return False\n",
        "\n",
        "def ip_match(ip, true_ip):\n",
        "    '''\n",
        "    This method takes an ip address used for a reverse dns lookup\n",
        "    and an ip address returned from a forward dns lookup\n",
        "    and determines if they match.\n",
        "    '''\n",
        "    if ip == true_ip:\n",
        "        ip_match = True\n",
        "    else:\n",
        "        ip_match = False\n",
        "    return ip_match\n",
        "\n",
        "def confirm_googlebot(host, ip_match):\n",
        "    '''\n",
        "    This method takes a hostname and the results of the ip_match() method\n",
        "    and determines if an ip address from a log file is truly googlebot\n",
        "    '''\n",
        "    googlebot = False\n",
        "    if host != False:\n",
        "        if host.endswith('.googlebot.com') or host.endswith('.google.com'):\n",
        "            if ip_match == True:\n",
        "                #googlebot = 'Yes'\n",
        "                googlebot = True\n",
        "    return googlebot\n",
        "                \n",
        "def run(ip):\n",
        "    try:\n",
        "        host = reverse_dns(ip)\n",
        "        true_ip = forward_dns(host)\n",
        "        is_match = ip_match(ip, true_ip)\n",
        "        return confirm_googlebot(host, is_match)\n",
        "    except:\n",
        "        #return 'No'\n",
        "        return False\n",
        "\n",
        "\n",
        "## Step 03 - Run the function\n",
        "\n",
        "df2['isRealGbot?'] = df2['IP'].apply(run)\n",
        "\n",
        "\n",
        "## Step 04 - Merge results back into the Master table 'df'\n",
        "\n",
        "df = df.merge(df2, how='left', on='IP')\n",
        "df['isRealGbot?'] = df['isRealGbot?'].fillna(value=\"not measured\")\n",
        "# Unhash if you wanted to check info for output table\n",
        "#df.info()\n"
      ],
      "execution_count": 0,
      "outputs": []
    },
    {
      "cell_type": "markdown",
      "metadata": {
        "colab_type": "text",
        "id": "QiqPzhTLkK-W"
      },
      "source": [
        "Print the 'fake' IPs"
      ]
    },
    {
      "cell_type": "code",
      "metadata": {
        "id": "rYvS-EplrMO9",
        "colab_type": "code",
        "outputId": "53774c39-3689-49ab-a7c1-89e17b2af86c",
        "colab": {
          "base_uri": "https://localhost:8080/",
          "height": 68
        }
      },
      "source": [
        "df[df['isRealGbot?'] == False]"
      ],
      "execution_count": 0,
      "outputs": [
        {
          "output_type": "execute_result",
          "data": {
            "text/html": [
              "<div>\n",
              "<style scoped>\n",
              "    .dataframe tbody tr th:only-of-type {\n",
              "        vertical-align: middle;\n",
              "    }\n",
              "\n",
              "    .dataframe tbody tr th {\n",
              "        vertical-align: top;\n",
              "    }\n",
              "\n",
              "    .dataframe thead th {\n",
              "        text-align: right;\n",
              "    }\n",
              "</style>\n",
              "<table border=\"1\" class=\"dataframe\">\n",
              "  <thead>\n",
              "    <tr style=\"text-align: right;\">\n",
              "      <th></th>\n",
              "      <th>IP</th>\n",
              "      <th>Date</th>\n",
              "      <th>Domain</th>\n",
              "      <th>Method</th>\n",
              "      <th>url</th>\n",
              "      <th>httpProto</th>\n",
              "      <th>httpCode</th>\n",
              "      <th>timeTaken</th>\n",
              "      <th>urlRef</th>\n",
              "      <th>userAgent</th>\n",
              "      <th>redirURL</th>\n",
              "      <th>httpCodeClass</th>\n",
              "      <th>SEBotClass</th>\n",
              "      <th>isRealGbot?</th>\n",
              "    </tr>\n",
              "  </thead>\n",
              "  <tbody>\n",
              "  </tbody>\n",
              "</table>\n",
              "</div>"
            ],
            "text/plain": [
              "Empty DataFrame\n",
              "Columns: [IP, Date, Domain, Method, url, httpProto, httpCode, timeTaken, urlRef, userAgent, redirURL, httpCodeClass, SEBotClass, isRealGbot?]\n",
              "Index: []"
            ]
          },
          "metadata": {
            "tags": []
          },
          "execution_count": 116
        }
      ]
    },
    {
      "cell_type": "markdown",
      "metadata": {
        "colab_type": "text",
        "id": "jGfd1rdVpOp0"
      },
      "source": [
        "# Filter date & status codes, then export to csv!\n"
      ]
    },
    {
      "cell_type": "markdown",
      "metadata": {
        "colab_type": "text",
        "id": "Kc-dgfJRK5EV"
      },
      "source": [
        "## Filter by date"
      ]
    },
    {
      "cell_type": "markdown",
      "metadata": {
        "id": "7LLoP8mSFikJ",
        "colab_type": "text"
      },
      "source": [
        "Check the Dataset time span ***pre-filtering***"
      ]
    },
    {
      "cell_type": "code",
      "metadata": {
        "id": "QlggwLK9FYRe",
        "colab_type": "code",
        "outputId": "fdb925e7-ec5a-4d6a-c514-166a91b9cfb8",
        "colab": {
          "base_uri": "https://localhost:8080/",
          "height": 52
        }
      },
      "source": [
        "print ('FYI, the dataset spans the following time intervals:')\n",
        "print (df['Date'].min(), df['Date'].max())"
      ],
      "execution_count": 0,
      "outputs": [
        {
          "output_type": "stream",
          "text": [
            "FYI, the dataset spans the following time intervals:\n",
            "2016-10-16 00:00:00 2016-10-20 00:00:00\n"
          ],
          "name": "stdout"
        }
      ]
    },
    {
      "cell_type": "markdown",
      "metadata": {
        "colab_type": "text",
        "id": "aQ78hh_ILMkM"
      },
      "source": [
        "Refine start and end points"
      ]
    },
    {
      "cell_type": "code",
      "metadata": {
        "colab_type": "code",
        "cellView": "form",
        "id": "Cd8vVwGhpOqG",
        "outputId": "0ddc3adc-b20e-48f7-fae3-151c61586fdb",
        "colab": {
          "base_uri": "https://localhost:8080/",
          "height": 70
        }
      },
      "source": [
        "start_date = '2016-10-16' #@param {type:\"date\"}\n",
        "end_date = '2016-10-17' #@param {type:\"date\"}\n",
        "\n",
        "print('start date for the exported csv is: ' + start_date)\n",
        "print('end date for the exported csv is: ' + end_date)\n",
        "print ('')"
      ],
      "execution_count": 0,
      "outputs": [
        {
          "output_type": "stream",
          "text": [
            "start date for the exported csv is: 2016-10-16\n",
            "end date for the exported csv is: 2016-10-17\n",
            "\n"
          ],
          "name": "stdout"
        }
      ]
    },
    {
      "cell_type": "markdown",
      "metadata": {
        "colab_type": "text",
        "id": "DqDwMZznMczU"
      },
      "source": [
        "## Filter by status codes"
      ]
    },
    {
      "cell_type": "markdown",
      "metadata": {
        "id": "H7eXjKM0tsgI",
        "colab_type": "text"
      },
      "source": [
        "Check status codes distribution"
      ]
    },
    {
      "cell_type": "code",
      "metadata": {
        "trusted": true,
        "id": "Epkukaqyxegx",
        "colab_type": "code",
        "colab": {}
      },
      "source": [
        "DfPivotCodes = df.groupby(['httpCode']).agg({'httpCode': ['count']})\n",
        "DfPivotCodes.columns = ['_'.join(multi_index) for multi_index in DfPivotCodes.columns.ravel()]\n",
        "DfPivotCodes = DfPivotCodes.reset_index()\n",
        "DfPivotCodes"
      ],
      "execution_count": 0,
      "outputs": []
    },
    {
      "cell_type": "markdown",
      "metadata": {
        "colab_type": "text",
        "id": "9znSIDQ34nLj"
      },
      "source": [
        "Select the http status codes you would like to export to csv "
      ]
    },
    {
      "cell_type": "code",
      "metadata": {
        "id": "KJkckTDLCV01",
        "colab_type": "code",
        "cellView": "form",
        "outputId": "1f3a8cf5-4483-40e5-b811-3ee8663fa291",
        "colab": {
          "base_uri": "https://localhost:8080/",
          "height": 35
        }
      },
      "source": [
        "myNewList = []\n",
        "\n",
        "Code_2XX = False  # @param {type:\"boolean\"}\n",
        "Code_3XX = True  # @param {type:\"boolean\"}\n",
        "Code_4XX = False  # @param {type:\"boolean\"}\n",
        "Code_5XX = False  # @param {type:\"boolean\"}\n",
        "\n",
        "if Code_2XX == True:\n",
        "    myNewList.append('Success (2XX)')\n",
        "if Code_3XX == True:\n",
        "    myNewList.append('Redirects (3XX)')\n",
        "if Code_4XX == True:\n",
        "    myNewList.append('Client errors (4XX)')\n",
        "if Code_5XX == True:\n",
        "    myNewList.append('Server errors (5XX)')\n",
        "\n",
        "print (myNewList)"
      ],
      "execution_count": 0,
      "outputs": [
        {
          "output_type": "stream",
          "text": [
            "['Redirects (3XX)']\n"
          ],
          "name": "stdout"
        }
      ]
    },
    {
      "cell_type": "markdown",
      "metadata": {
        "colab_type": "text",
        "id": "l5TmJpsGNNLn"
      },
      "source": [
        "## Export your csvs"
      ]
    },
    {
      "cell_type": "markdown",
      "metadata": {
        "colab_type": "text",
        "id": "d_jZAlI-NNLs"
      },
      "source": [
        "Give your filtered csv file a name"
      ]
    },
    {
      "cell_type": "code",
      "metadata": {
        "id": "JP2xMRTlN7SP",
        "colab_type": "code",
        "cellView": "form",
        "colab": {}
      },
      "source": [
        "dfFiltered = df[(df['Date'] > start_date) & (df['Date'] <= end_date) & (df['httpCodeClass'].isin(myNewList))]\n",
        "\n",
        "csvName = \"FilteredOutput2\" #@param {type:\"string\"}\n",
        "csvName = csvName + '.csv'\n",
        "dfFiltered.to_csv(csvName)\n"
      ],
      "execution_count": 0,
      "outputs": []
    },
    {
      "cell_type": "markdown",
      "metadata": {
        "id": "e_yuSteCUU4b",
        "colab_type": "text"
      },
      "source": [
        "Give your unfiltered csv file a name"
      ]
    },
    {
      "cell_type": "code",
      "metadata": {
        "id": "Woh4v06081lW",
        "colab_type": "code",
        "cellView": "form",
        "colab": {}
      },
      "source": [
        "csvName = \"OutputNoFilter2\" #@param {type:\"string\"}\n",
        "csvName = csvName + '.csv'\n",
        "df.to_csv(csvName)\n"
      ],
      "execution_count": 0,
      "outputs": []
    },
    {
      "cell_type": "markdown",
      "metadata": {
        "id": "PSRtnVZzUh6y",
        "colab_type": "text"
      },
      "source": [
        "voilà!"
      ]
    }
  ]
}