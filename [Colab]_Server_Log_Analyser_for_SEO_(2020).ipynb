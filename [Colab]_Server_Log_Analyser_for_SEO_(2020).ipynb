{
  "nbformat": 4,
  "nbformat_minor": 0,
  "metadata": {
    "kernelspec": {
      "language": "python",
      "display_name": "Python 3",
      "name": "python3"
    },
    "language_info": {
      "pygments_lexer": "ipython3",
      "nbconvert_exporter": "python",
      "version": "3.6.4",
      "file_extension": ".py",
      "codemirror_mode": {
        "name": "ipython",
        "version": 3
      },
      "name": "python",
      "mimetype": "text/x-python"
    },
    "colab": {
      "name": "[Colab] Server Log Analyser for SEO (2020)",
      "provenance": [],
      "collapsed_sections": [],
      "toc_visible": true
    }
  },
  "cells": [
    {
      "cell_type": "markdown",
      "metadata": {
        "id": "ioK6d70xtON4",
        "colab_type": "text"
      },
      "source": [
        "\n",
        "![alt text](https://i.ibb.co/3fWYYMv/banner-03-smaller.jpg)\n",
        "\n",
        "*This notebook relies on Python, Google Cloud Platform and BigQuery"
      ]
    },
    {
      "cell_type": "markdown",
      "metadata": {
        "colab_type": "text",
        "id": "WyLogcxGzDPB"
      },
      "source": [
        "# Import libraries + Google Cloud Platform authentication"
      ]
    },
    {
      "cell_type": "code",
      "metadata": {
        "id": "JQ8MzUhwxw4P",
        "colab_type": "code",
        "colab": {}
      },
      "source": [
        "# Import libraries \n",
        "import pandas as pd\n",
        "import numpy as np\n",
        "import socket\n",
        "import json\n",
        "\n",
        "#Connect Python to your GCP project\n",
        "from google.colab import auth\n",
        "auth.authenticate_user()"
      ],
      "execution_count": 0,
      "outputs": []
    },
    {
      "cell_type": "markdown",
      "metadata": {
        "id": "GzLBIOnvWa3t",
        "colab_type": "text"
      },
      "source": [
        "# Connect to Google Cloud Storage (GCS) & BigQuery"
      ]
    },
    {
      "cell_type": "markdown",
      "metadata": {
        "id": "SovQUl50Va7O",
        "colab_type": "text"
      },
      "source": [
        "## Enter your GCP project ID & bucket location\n",
        "For your bucket location, go to GCP -> storage -> browser -> check location in table\n",
        "\n"
      ]
    },
    {
      "cell_type": "code",
      "metadata": {
        "_uuid": "d629ff2d2480ee46fbb7e2d37f6b5fab8052498a",
        "_cell_guid": "79c7e3d0-c299-4dcb-8224-4455121ee9b0",
        "trusted": true,
        "id": "nCXif3coxef-",
        "colab_type": "code",
        "cellView": "form",
        "colab": {}
      },
      "source": [
        "# Import BigQuery from google.cloud\n",
        "from google.cloud import bigquery\n",
        "\n",
        "## Inputs from forms ##\n",
        "\n",
        "GCP_PROJECT_ID = 'learned-spider-266010' #@param {type:\"string\"}\n",
        "\n",
        "GCS_Bucket_Location = 'europe-west2' #@param [\"asia-east1\",\t\"asia-east2\",\t\"asia-northeast1\",\t\"asia-northeast2\",\t\"asia-northeast3\",\t\"asia-south1\",\t\"asia-southeast1\",\t\"australia-southeast1\",\t\"europe-north1\",\t\"europe-west1\",\t\"europe-west2\",\t\"europe-west3\",\t\"europe-west4\",\t\"europe-west6\",\t\"northamerica-northeast1\",\t\"southamerica-east1\",\t\"us-central1\",\t\"us-east1\",\t\"us-east4\",\t\"us-west1\",\t\"us-west2\"]\n",
        "\n",
        "# Create a client instance for your project\n",
        "client = bigquery.Client(project=GCP_PROJECT_ID, location=GCS_Bucket_Location)\n"
      ],
      "execution_count": 0,
      "outputs": []
    },
    {
      "cell_type": "markdown",
      "metadata": {
        "colab_type": "text",
        "id": "RkOD6J8aV33N"
      },
      "source": [
        "## Add your GCS bucket name and file path to query\n",
        "*   For your bucket name, go to GCP -> storage -> browser -> check 'name' in table\n",
        "\n",
        "*   wildcard (*) must be used to query several files at once\n",
        "\n",
        "\n",
        "\n"
      ]
    },
    {
      "cell_type": "code",
      "metadata": {
        "id": "kRX9InN4nRWt",
        "colab_type": "code",
        "cellView": "form",
        "outputId": "ca3b9439-3161-453d-8246-edbb10e22a0e",
        "colab": {
          "base_uri": "https://localhost:8080/",
          "height": 33
        }
      },
      "source": [
        "GCS_Bucket_Name = 'apache_seo_logs' #@param {type:\"string\"}\n",
        "\n",
        "GCS_Folder_Path = 'Loggy*' #@param {type:\"string\"}\n",
        "\n",
        "GCS_Full_Path = \"gs://\" + GCS_Bucket_Name + \"/\" + GCS_Folder_Path\n",
        "\n",
        "print(\"the path to your GCS folder is: \" + GCS_Full_Path)"
      ],
      "execution_count": 0,
      "outputs": [
        {
          "output_type": "stream",
          "text": [
            "the path to your GCS folder is: gs://apache_seo_logs/Loggy*\n"
          ],
          "name": "stdout"
        }
      ]
    },
    {
      "cell_type": "markdown",
      "metadata": {
        "colab_type": "text",
        "id": "int9zAk45H9a"
      },
      "source": [
        "## Apply SQL filtering\n",
        "\n",
        "All the files in your bucket's folder path will be merged into a Bigquery table:\n",
        "\n",
        "*   First, give the table a name (1st form field)\n",
        "*   Then you can apply 2 SQL filters -> an 'open' one and a Search Engine selector \n",
        "*   Feel free to create/add your own filters!\n",
        "\n",
        "\n",
        "\n",
        "\n",
        "\n",
        "\n",
        "\n"
      ]
    },
    {
      "cell_type": "code",
      "metadata": {
        "id": "Uooe2RzYkxtY",
        "colab_type": "code",
        "cellView": "form",
        "outputId": "3fcb171e-0e24-4c59-d121-b1e0805fc19c",
        "colab": {
          "base_uri": "https://localhost:8080/",
          "height": 33
        }
      },
      "source": [
        "## Form elements ##\n",
        "\n",
        "table_name = 'log_sample' #@param {type:\"string\"}\n",
        "SQL_1st_Filter ='ch.loggy' #@param {type:\"string\"}\n",
        "SQL_Useragent_Filter = \"Googlebot/2.1\" #@param [\"Googlebot/2.1\", \"YandexBot\", \"BingBot\", \"DuckDuckBot\", \"Baiduspider\"] {allow-input: true}\n",
        "\n",
        "# Temporary Bigquery table name\n",
        "table_id = table_name\n",
        "\n",
        "## Full SQL query ##\n",
        "\n",
        "# Concatenate SQL filters above\n",
        "SQLFilters = 'SELECT * FROM `{}` WHERE header LIKE \"%' + SQL_1st_Filter + '%\" AND header LIKE \"%' + SQL_Useragent_Filter + '%\"'\n",
        "# Concatenate SQL filters above\n",
        "sql = SQLFilters.format(table_id)\n",
        "\n",
        "## Other config lines for BigQuery ##\n",
        "\n",
        "# Configure the external data source and query job\n",
        "external_config = bigquery.ExternalConfig(\"CSV\")\n",
        "external_config.source_uris = [GCS_Full_Path]\n",
        "# 1st argument is where you ut the name of the header, here it is called 'header'                       \n",
        "external_config.schema = [bigquery.SchemaField(\"header\", \"STRING\"),]\n",
        "# Should remain at 0 for default log file upload\n",
        "external_config.options.skip_leading_rows = 0\n",
        "# BigQuery job configuration\n",
        "job_config = bigquery.QueryJobConfig(table_definitions={table_id: external_config})\n",
        "# Auto-detect Schemas (hashed as not currently in use)\n",
        "# job_config.autodetect = True\n",
        "\n",
        "# Make an API request\n",
        "query_job = client.query(sql, job_config=job_config)  \n",
        "# Wait for the job to complete.\n",
        "log_sample = list(query_job)\n",
        "\n",
        "# Print SQL query sent to BigQuery\n",
        "print('The SQL query sent to BigQuery is \"' + SQLFilters + '\"')\n",
        "\n",
        "#log_sample"
      ],
      "execution_count": 0,
      "outputs": [
        {
          "output_type": "stream",
          "text": [
            "The SQL query sent to BigQuery is \"SELECT * FROM `{}` WHERE header LIKE \"%ch.loggy%\" AND header LIKE \"%Googlebot/2.1%\"\"\n"
          ],
          "name": "stdout"
        }
      ]
    },
    {
      "cell_type": "markdown",
      "metadata": {
        "id": "46SzgoeUQed0",
        "colab_type": "text"
      },
      "source": [
        "Convert the list output to a Pandas dataframe. \n",
        "\n"
      ]
    },
    {
      "cell_type": "code",
      "metadata": {
        "id": "HNVQvyaSPmWR",
        "colab_type": "code",
        "colab": {}
      },
      "source": [
        "# Note that we convert a list of lists, not just a list.\n",
        "df = pd.DataFrame.from_records(log_sample)"
      ],
      "execution_count": 0,
      "outputs": []
    },
    {
      "cell_type": "markdown",
      "metadata": {
        "id": "YZOSZkjy8o2q",
        "colab_type": "text"
      },
      "source": [
        "# Data Splitting/Cleansing"
      ]
    },
    {
      "cell_type": "markdown",
      "metadata": {
        "colab_type": "text",
        "id": "G57Uuf_3Lpv-"
      },
      "source": [
        "Split & cleanse each bit of useful from our cryptic logs, and create a column for each!"
      ]
    },
    {
      "cell_type": "markdown",
      "metadata": {
        "colab_type": "text",
        "id": "CR7yYbDgOKi2"
      },
      "source": [
        "Name our unique column 'header'"
      ]
    },
    {
      "cell_type": "code",
      "metadata": {
        "colab_type": "code",
        "id": "Uruu3eoaLpwG",
        "colab": {}
      },
      "source": [
        "df.rename(columns={0:'header'}, inplace=True)\n",
        "df = df.iloc[1:]"
      ],
      "execution_count": 0,
      "outputs": []
    },
    {
      "cell_type": "markdown",
      "metadata": {
        "id": "9yAQkZn26RyG",
        "colab_type": "text"
      },
      "source": [
        "Split IP addresses"
      ]
    },
    {
      "cell_type": "code",
      "metadata": {
        "id": "4q7KnZMW9Y-R",
        "colab_type": "code",
        "colab": {}
      },
      "source": [
        "# Split IP addresses\n",
        "df[['IP','header']] = df[\"header\"].str.split(\" - - \\[\", 1, expand=True)\n",
        "# Remove slash\n",
        "df['IP'] = df['IP'].str.replace(\"Row\\(\\('\",\"\",n=1)"
      ],
      "execution_count": 0,
      "outputs": []
    },
    {
      "cell_type": "markdown",
      "metadata": {
        "id": "Di-FH5q9IeSV",
        "colab_type": "text"
      },
      "source": [
        "Split dates and times"
      ]
    },
    {
      "cell_type": "code",
      "metadata": {
        "id": "zO2sxiPKyXzJ",
        "colab_type": "code",
        "outputId": "b9c513df-8992-4cde-f9e4-900ef32dbb84",
        "colab": {
          "base_uri": "https://localhost:8080/",
          "height": 150
        }
      },
      "source": [
        "# Split Date & Time\n",
        "df[['Date_Time', 'header']] = df['header'].str.split(\"\\] \", 1,\n",
        "        expand=True)\n",
        "df['Date_Time'] = df['Date_Time'].str.replace(':.*', '')\n",
        "\n",
        "# Convert the Date_Time column from string to datetime format\n",
        "df['Date'] = pd.to_datetime(df['Date_Time'], errors='coerce',\n",
        "                            infer_datetime_format=True)\n",
        "\n",
        "# Remove Time column, for clarity's sake\n",
        "df = df.drop(['Date_Time'], axis=1)\n",
        "\n",
        "# Check that the Date column has been converted to a time series\n",
        "df.info()"
      ],
      "execution_count": 0,
      "outputs": [
        {
          "output_type": "stream",
          "text": [
            "<class 'pandas.core.frame.DataFrame'>\n",
            "RangeIndex: 2287 entries, 1 to 2287\n",
            "Data columns (total 3 columns):\n",
            "header    2287 non-null object\n",
            "IP        2287 non-null object\n",
            "Date      2287 non-null datetime64[ns]\n",
            "dtypes: datetime64[ns](1), object(2)\n",
            "memory usage: 53.7+ KB\n"
          ],
          "name": "stdout"
        }
      ]
    },
    {
      "cell_type": "markdown",
      "metadata": {
        "id": "tLYu59mf5vtH",
        "colab_type": "text"
      },
      "source": [
        "Split domains"
      ]
    },
    {
      "cell_type": "code",
      "metadata": {
        "id": "BbcbdVD35LyI",
        "colab_type": "code",
        "colab": {}
      },
      "source": [
        "df[['Domain','header']] = df[\"header\"].str.split(\" \\\"\", 1, expand=True)"
      ],
      "execution_count": 0,
      "outputs": []
    },
    {
      "cell_type": "markdown",
      "metadata": {
        "id": "e1UmGaz25wGo",
        "colab_type": "text"
      },
      "source": [
        "Split methods (Get, Post etc...)"
      ]
    },
    {
      "cell_type": "code",
      "metadata": {
        "id": "sJSf9Cyr5Lu9",
        "colab_type": "code",
        "colab": {}
      },
      "source": [
        "df[['Method','header']] = df[\"header\"].str.split(\" \", 1, expand=True)"
      ],
      "execution_count": 0,
      "outputs": []
    },
    {
      "cell_type": "markdown",
      "metadata": {
        "id": "CnjTylij52t_",
        "colab_type": "text"
      },
      "source": [
        "Split URLs"
      ]
    },
    {
      "cell_type": "code",
      "metadata": {
        "id": "vf1lHtti5Lrn",
        "colab_type": "code",
        "colab": {}
      },
      "source": [
        "df[['url','header']] = df[\"header\"].str.split(\" \", 1, expand=True)\n",
        "# Remove slash (/) at the start of each URL\n",
        "df['url'] = df['url'].str.replace('/','',n=1)"
      ],
      "execution_count": 0,
      "outputs": []
    },
    {
      "cell_type": "markdown",
      "metadata": {
        "id": "BkMiVE5V51rG",
        "colab_type": "text"
      },
      "source": [
        "Split protocols"
      ]
    },
    {
      "cell_type": "code",
      "metadata": {
        "id": "Fkm_iDd_5Lnx",
        "colab_type": "code",
        "colab": {}
      },
      "source": [
        "df[['httpProto','header']] = df[\"header\"].str.split(\"\\\" \", 1, expand=True)"
      ],
      "execution_count": 0,
      "outputs": []
    },
    {
      "cell_type": "markdown",
      "metadata": {
        "id": "yDEdu8P956LO",
        "colab_type": "text"
      },
      "source": [
        "Split status codes"
      ]
    },
    {
      "cell_type": "code",
      "metadata": {
        "id": "JRycsYDY5LkZ",
        "colab_type": "code",
        "colab": {}
      },
      "source": [
        "df[['httpCode','header']] = df[\"header\"].str.split(\" \", 1, expand=True)"
      ],
      "execution_count": 0,
      "outputs": []
    },
    {
      "cell_type": "markdown",
      "metadata": {
        "id": "gUkMoAo356y_",
        "colab_type": "text"
      },
      "source": [
        "Split 'time taken'\n"
      ]
    },
    {
      "cell_type": "code",
      "metadata": {
        "id": "BAh6sUmi5LgJ",
        "colab_type": "code",
        "colab": {}
      },
      "source": [
        "df[['timeTaken','header']] = df[\"header\"].str.split(\" \", 1, expand=True)"
      ],
      "execution_count": 0,
      "outputs": []
    },
    {
      "cell_type": "markdown",
      "metadata": {
        "id": "0D89OGQc57Wo",
        "colab_type": "text"
      },
      "source": [
        "Split referral URLs\n"
      ]
    },
    {
      "cell_type": "code",
      "metadata": {
        "id": "p_L2KiTb5LTO",
        "colab_type": "code",
        "colab": {}
      },
      "source": [
        "df[['urlRef','header']] = df[\"header\"].str.split(\" \", 1, expand=True)\n",
        "df['urlRef'] = df['urlRef'].str.replace('\\\"', '')"
      ],
      "execution_count": 0,
      "outputs": []
    },
    {
      "cell_type": "markdown",
      "metadata": {
        "id": "y7ONw00i6KWh",
        "colab_type": "text"
      },
      "source": [
        "Split User Agents\n"
      ]
    },
    {
      "cell_type": "code",
      "metadata": {
        "id": "YUM0CPbx5UUv",
        "colab_type": "code",
        "colab": {}
      },
      "source": [
        "df[['userAgent','header']] = df[\"header\"].str.split(\"\\\" \", 1, expand=True)"
      ],
      "execution_count": 0,
      "outputs": []
    },
    {
      "cell_type": "markdown",
      "metadata": {
        "id": "n7aRYn4i6Loy",
        "colab_type": "text"
      },
      "source": [
        "Split redirected URLs (when existing)"
      ]
    },
    {
      "cell_type": "code",
      "metadata": {
        "id": "kma47jFy5URU",
        "colab_type": "code",
        "colab": {}
      },
      "source": [
        "df[['remainder','header']] = df[\"header\"].str.split('\".*LOCATION=30.-', 1, expand=True)\n",
        "df['header'] = df['header'].str.replace('\\\"', '')"
      ],
      "execution_count": 0,
      "outputs": []
    },
    {
      "cell_type": "markdown",
      "metadata": {
        "colab_type": "text",
        "id": "83ZDw7HnMxws"
      },
      "source": [
        "Re-order columns"
      ]
    },
    {
      "cell_type": "code",
      "metadata": {
        "id": "dOoPuA25pTXl",
        "colab_type": "code",
        "colab": {}
      },
      "source": [
        "df = df[['IP','Date','Domain','Method','url','httpProto','httpCode','timeTaken','urlRef', 'userAgent','header']]\n",
        "df.rename(columns={\"header\": \"redirURL\"}, inplace=True)"
      ],
      "execution_count": 0,
      "outputs": []
    },
    {
      "cell_type": "markdown",
      "metadata": {
        "id": "RpBDiw0v6MfG",
        "colab_type": "text"
      },
      "source": [
        "Check the output table, to ensure all is OK"
      ]
    },
    {
      "cell_type": "code",
      "metadata": {
        "id": "5DGkzDaVyVYQ",
        "colab_type": "code",
        "outputId": "b1ca98a5-3774-4008-e4cb-a6ebbbfd3cb2",
        "colab": {
          "base_uri": "https://localhost:8080/",
          "height": 141
        }
      },
      "source": [
        "df.head(2)"
      ],
      "execution_count": 0,
      "outputs": [
        {
          "output_type": "execute_result",
          "data": {
            "text/html": [
              "<div>\n",
              "<style scoped>\n",
              "    .dataframe tbody tr th:only-of-type {\n",
              "        vertical-align: middle;\n",
              "    }\n",
              "\n",
              "    .dataframe tbody tr th {\n",
              "        vertical-align: top;\n",
              "    }\n",
              "\n",
              "    .dataframe thead th {\n",
              "        text-align: right;\n",
              "    }\n",
              "</style>\n",
              "<table border=\"1\" class=\"dataframe\">\n",
              "  <thead>\n",
              "    <tr style=\"text-align: right;\">\n",
              "      <th></th>\n",
              "      <th>IP</th>\n",
              "      <th>Date</th>\n",
              "      <th>Domain</th>\n",
              "      <th>Method</th>\n",
              "      <th>url</th>\n",
              "      <th>httpProto</th>\n",
              "      <th>httpCode</th>\n",
              "      <th>timeTaken</th>\n",
              "      <th>urlRef</th>\n",
              "      <th>userAgent</th>\n",
              "      <th>redirURL</th>\n",
              "    </tr>\n",
              "  </thead>\n",
              "  <tbody>\n",
              "    <tr>\n",
              "      <th>1</th>\n",
              "      <td>66.249.65.161</td>\n",
              "      <td>2016-10-20</td>\n",
              "      <td>ch.loggy.com</td>\n",
              "      <td>GET</td>\n",
              "      <td>ch.loggy.com/FR/sacs-et-accessoires-femme</td>\n",
              "      <td>HTTP/1.1</td>\n",
              "      <td>200</td>\n",
              "      <td>50243</td>\n",
              "      <td>-</td>\n",
              "      <td>\"Mozilla/5.0 (compatible; Googlebot/2.1; +http...</td>\n",
              "      <td>None</td>\n",
              "    </tr>\n",
              "    <tr>\n",
              "      <th>2</th>\n",
              "      <td>66.249.65.171</td>\n",
              "      <td>2016-10-20</td>\n",
              "      <td>ch.loggy.com</td>\n",
              "      <td>GET</td>\n",
              "      <td>ch.loggy.com/IT/borse-accessori-donne</td>\n",
              "      <td>HTTP/1.1</td>\n",
              "      <td>200</td>\n",
              "      <td>49317</td>\n",
              "      <td>-</td>\n",
              "      <td>\"Mozilla/5.0 (compatible; Googlebot/2.1; +http...</td>\n",
              "      <td>None</td>\n",
              "    </tr>\n",
              "  </tbody>\n",
              "</table>\n",
              "</div>"
            ],
            "text/plain": [
              "              IP  ... redirURL\n",
              "1  66.249.65.161  ...     None\n",
              "2  66.249.65.171  ...     None\n",
              "\n",
              "[2 rows x 11 columns]"
            ]
          },
          "metadata": {
            "tags": []
          },
          "execution_count": 23
        }
      ]
    },
    {
      "cell_type": "markdown",
      "metadata": {
        "id": "pBjDPklNADkV",
        "colab_type": "text"
      },
      "source": [
        "# Create categorical columns"
      ]
    },
    {
      "cell_type": "markdown",
      "metadata": {
        "id": "m6aXz9QmATAM",
        "colab_type": "text"
      },
      "source": [
        "## Create a new column to categorise status codes"
      ]
    },
    {
      "cell_type": "code",
      "metadata": {
        "id": "G3zc3xcMTx7S",
        "colab_type": "code",
        "colab": {}
      },
      "source": [
        "df['httpCodeClass'] = pd.np.where(df.httpCode.str.contains(\"^1.*\"), 'Info (1XX)',\n",
        "  pd.np.where(df.httpCode.str.contains(\"^2.*\"), 'Success (2XX)',\n",
        "    pd.np.where(df.httpCode.str.contains(\"^3.*\"), 'Redirects (3XX)',\n",
        "      pd.np.where(df.httpCode.str.contains(\"^4.*\"), 'Client errors (4XX)', 'Server errors (5XX)'))))"
      ],
      "execution_count": 0,
      "outputs": []
    },
    {
      "cell_type": "markdown",
      "metadata": {
        "id": "Z8VCZ7YnAQun",
        "colab_type": "text"
      },
      "source": [
        "## Create a column to categorise Search Engine Bots\n"
      ]
    },
    {
      "cell_type": "code",
      "metadata": {
        "id": "jbreME3YAr-K",
        "colab_type": "code",
        "colab": {}
      },
      "source": [
        "df['SEBotClass'] = pd.np.where(df.userAgent.str.contains(\"YandexBot\"), \"YandexBot\",\n",
        "  pd.np.where(df.userAgent.str.contains(\"bingbot\"), \"BingBot\",\n",
        "    pd.np.where(df.userAgent.str.contains(\"DuckDuckBot\"), \"DuckDuckGo\",\n",
        "      pd.np.where(df.userAgent.str.contains(\"Baiduspider\"), \"Baidu\",\n",
        "        pd.np.where(df.userAgent.str.contains(\"Googlebot/2.1\"), \"GoogleBot\", \"Else\")))))"
      ],
      "execution_count": 0,
      "outputs": []
    },
    {
      "cell_type": "markdown",
      "metadata": {
        "id": "T_sTQ84gMVdA",
        "colab_type": "text"
      },
      "source": [
        "Check the output table, to ensure all is OK"
      ]
    },
    {
      "cell_type": "code",
      "metadata": {
        "id": "hEldndqCMNma",
        "colab_type": "code",
        "outputId": "fff6ff9c-9624-40e2-8e7e-b187425e6737",
        "colab": {
          "base_uri": "https://localhost:8080/",
          "height": 227
        }
      },
      "source": [
        "df.head(2)"
      ],
      "execution_count": 0,
      "outputs": [
        {
          "output_type": "execute_result",
          "data": {
            "text/html": [
              "<div>\n",
              "<style scoped>\n",
              "    .dataframe tbody tr th:only-of-type {\n",
              "        vertical-align: middle;\n",
              "    }\n",
              "\n",
              "    .dataframe tbody tr th {\n",
              "        vertical-align: top;\n",
              "    }\n",
              "\n",
              "    .dataframe thead th {\n",
              "        text-align: right;\n",
              "    }\n",
              "</style>\n",
              "<table border=\"1\" class=\"dataframe\">\n",
              "  <thead>\n",
              "    <tr style=\"text-align: right;\">\n",
              "      <th></th>\n",
              "      <th>IP</th>\n",
              "      <th>Date</th>\n",
              "      <th>Domain</th>\n",
              "      <th>Method</th>\n",
              "      <th>url</th>\n",
              "      <th>httpProto</th>\n",
              "      <th>httpCode</th>\n",
              "      <th>timeTaken</th>\n",
              "      <th>urlRef</th>\n",
              "      <th>userAgent</th>\n",
              "      <th>redirURL</th>\n",
              "      <th>httpCodeClass</th>\n",
              "      <th>SEBotClass</th>\n",
              "    </tr>\n",
              "  </thead>\n",
              "  <tbody>\n",
              "    <tr>\n",
              "      <th>1</th>\n",
              "      <td>66.249.65.161</td>\n",
              "      <td>2016-10-20</td>\n",
              "      <td>ch.loggy.com</td>\n",
              "      <td>GET</td>\n",
              "      <td>ch.loggy.com/FR/sacs-et-accessoires-femme</td>\n",
              "      <td>HTTP/1.1</td>\n",
              "      <td>200</td>\n",
              "      <td>50243</td>\n",
              "      <td>-</td>\n",
              "      <td>\"Mozilla/5.0 (compatible; Googlebot/2.1; +http...</td>\n",
              "      <td>None</td>\n",
              "      <td>Success (2XX)</td>\n",
              "      <td>GoogleBot</td>\n",
              "    </tr>\n",
              "    <tr>\n",
              "      <th>2</th>\n",
              "      <td>66.249.65.171</td>\n",
              "      <td>2016-10-20</td>\n",
              "      <td>ch.loggy.com</td>\n",
              "      <td>GET</td>\n",
              "      <td>ch.loggy.com/IT/borse-accessori-donne</td>\n",
              "      <td>HTTP/1.1</td>\n",
              "      <td>200</td>\n",
              "      <td>49317</td>\n",
              "      <td>-</td>\n",
              "      <td>\"Mozilla/5.0 (compatible; Googlebot/2.1; +http...</td>\n",
              "      <td>None</td>\n",
              "      <td>Success (2XX)</td>\n",
              "      <td>GoogleBot</td>\n",
              "    </tr>\n",
              "  </tbody>\n",
              "</table>\n",
              "</div>"
            ],
            "text/plain": [
              "              IP       Date        Domain  ... redirURL  httpCodeClass SEBotClass\n",
              "1  66.249.65.161 2016-10-20  ch.loggy.com  ...     None  Success (2XX)  GoogleBot\n",
              "2  66.249.65.171 2016-10-20  ch.loggy.com  ...     None  Success (2XX)  GoogleBot\n",
              "\n",
              "[2 rows x 13 columns]"
            ]
          },
          "metadata": {
            "tags": []
          },
          "execution_count": 26
        }
      ]
    },
    {
      "cell_type": "markdown",
      "metadata": {
        "colab_type": "text",
        "id": "DthfBz9IYebe"
      },
      "source": [
        "# Spotting ‘spoofed’ Search Engine Bots\n"
      ]
    },
    {
      "cell_type": "markdown",
      "metadata": {
        "id": "jQMnDyxDtbv1",
        "colab_type": "text"
      },
      "source": [
        "The function below verifies that IP addresses are genuinely from Googlebot.  The column 'isRealGbot?' will be created for that matter.\n",
        "\n",
        "All credit due to [Tyler Reardon](https://twitter.com/) for that magic anti-spoofing detector! Initially available on [searchtools.io](https://www.searchtools.io/), we've simply integrated it in this notebook."
      ]
    },
    {
      "cell_type": "code",
      "metadata": {
        "id": "eZ0j-M8lqhAK",
        "colab_type": "code",
        "cellView": "form",
        "colab": {}
      },
      "source": [
        "#@markdown By running this cell, all the IP addresses listed in our dataframe will be checked. (Double-click on this cell to unhide the code).\n",
        "\n",
        "#@markdown ---\n",
        "\n",
        "#Define the function\n",
        "\n",
        "def reverse_dns(ip_address):\n",
        "    '''\n",
        "    This method returns the true host name for a \n",
        "    given IP address\n",
        "    '''\n",
        "    host_name = socket.gethostbyaddr(ip_address)\n",
        "    reversed_dns = host_name[0]\n",
        "    return reversed_dns\n",
        "\n",
        "def forward_dns(reversed_dns):\n",
        "    '''\n",
        "    This method returns the first IP address string\n",
        "    that responds as the given domain name\n",
        "    '''\n",
        "    try:\n",
        "        data = socket.gethostbyname(reversed_dns)\n",
        "        ip = str(data)\n",
        "        return ip\n",
        "    except Exception:\n",
        "        print('error')\n",
        "        return False\n",
        "\n",
        "def ip_match(ip, true_ip):\n",
        "    '''\n",
        "    This method takes an ip address used for a reverse dns lookup\n",
        "    and an ip address returned from a forward dns lookup\n",
        "    and determines if they match.\n",
        "    '''\n",
        "    if ip == true_ip:\n",
        "        ip_match = True\n",
        "    else:\n",
        "        ip_match = False\n",
        "    return ip_match\n",
        "\n",
        "def confirm_googlebot(host, ip_match):\n",
        "    '''\n",
        "    This method takes a hostname and the results of the ip_match() method\n",
        "    and determines if an ip address from a log file is truly googlebot\n",
        "    '''\n",
        "    googlebot = False\n",
        "    if host != False:\n",
        "        if host.endswith('.googlebot.com') or host.endswith('.google.com'):\n",
        "            if ip_match == True:\n",
        "                #googlebot = 'Yes'\n",
        "                googlebot = True\n",
        "    return googlebot\n",
        "                \n",
        "def run(ip):\n",
        "    try:\n",
        "        host = reverse_dns(ip)\n",
        "        true_ip = forward_dns(host)\n",
        "        is_match = ip_match(ip, true_ip)\n",
        "        return confirm_googlebot(host, is_match)\n",
        "    except:\n",
        "        #return 'No'\n",
        "        return False\n",
        "\n",
        "#Run the function against the IP addresses listed in the dataframe\n",
        "\n",
        "df['isRealGbot?'] = df['IP'].apply(run)"
      ],
      "execution_count": 0,
      "outputs": []
    },
    {
      "cell_type": "markdown",
      "metadata": {
        "colab_type": "text",
        "id": "QiqPzhTLkK-W"
      },
      "source": [
        "Print the 'fake' IPs"
      ]
    },
    {
      "cell_type": "code",
      "metadata": {
        "id": "rYvS-EplrMO9",
        "colab_type": "code",
        "outputId": "7fc84109-5c1c-422c-e180-fe4f8547a857",
        "colab": {
          "base_uri": "https://localhost:8080/",
          "height": 47
        }
      },
      "source": [
        "df[df['isRealGbot?'] == False]"
      ],
      "execution_count": 0,
      "outputs": [
        {
          "output_type": "execute_result",
          "data": {
            "text/html": [
              "<div>\n",
              "<style scoped>\n",
              "    .dataframe tbody tr th:only-of-type {\n",
              "        vertical-align: middle;\n",
              "    }\n",
              "\n",
              "    .dataframe tbody tr th {\n",
              "        vertical-align: top;\n",
              "    }\n",
              "\n",
              "    .dataframe thead th {\n",
              "        text-align: right;\n",
              "    }\n",
              "</style>\n",
              "<table border=\"1\" class=\"dataframe\">\n",
              "  <thead>\n",
              "    <tr style=\"text-align: right;\">\n",
              "      <th></th>\n",
              "      <th>IP</th>\n",
              "      <th>Date</th>\n",
              "      <th>Domain</th>\n",
              "      <th>Method</th>\n",
              "      <th>url</th>\n",
              "      <th>httpProto</th>\n",
              "      <th>httpCode</th>\n",
              "      <th>timeTaken</th>\n",
              "      <th>urlRef</th>\n",
              "      <th>userAgent</th>\n",
              "      <th>redirURL</th>\n",
              "      <th>httpCodeClass</th>\n",
              "      <th>SEBotClass</th>\n",
              "      <th>isRealGbot?</th>\n",
              "    </tr>\n",
              "  </thead>\n",
              "  <tbody>\n",
              "  </tbody>\n",
              "</table>\n",
              "</div>"
            ],
            "text/plain": [
              "Empty DataFrame\n",
              "Columns: [IP, Date, Domain, Method, url, httpProto, httpCode, timeTaken, urlRef, userAgent, redirURL, httpCodeClass, SEBotClass, isRealGbot?]\n",
              "Index: []"
            ]
          },
          "metadata": {
            "tags": []
          },
          "execution_count": 28
        }
      ]
    },
    {
      "cell_type": "markdown",
      "metadata": {
        "colab_type": "text",
        "id": "jGfd1rdVpOp0"
      },
      "source": [
        "# Filter date & status codes, then export to csv!\n"
      ]
    },
    {
      "cell_type": "markdown",
      "metadata": {
        "colab_type": "text",
        "id": "Kc-dgfJRK5EV"
      },
      "source": [
        "## Filter by date"
      ]
    },
    {
      "cell_type": "markdown",
      "metadata": {
        "id": "7LLoP8mSFikJ",
        "colab_type": "text"
      },
      "source": [
        "Check the Dataset time span ***pre-filtering***"
      ]
    },
    {
      "cell_type": "code",
      "metadata": {
        "id": "QlggwLK9FYRe",
        "colab_type": "code",
        "outputId": "4ae9af72-60d1-4bb5-f334-5c840f123966",
        "colab": {
          "base_uri": "https://localhost:8080/",
          "height": 50
        }
      },
      "source": [
        "print ('FYI, the dataset spans the following time intervals:')\n",
        "print (df['Date'].min(), df['Date'].max())"
      ],
      "execution_count": 0,
      "outputs": [
        {
          "output_type": "stream",
          "text": [
            "FYI, the dataset spans the following time intervals:\n",
            "2016-10-16 00:00:00 2016-10-20 00:00:00\n"
          ],
          "name": "stdout"
        }
      ]
    },
    {
      "cell_type": "markdown",
      "metadata": {
        "colab_type": "text",
        "id": "aQ78hh_ILMkM"
      },
      "source": [
        "Refine start and end points"
      ]
    },
    {
      "cell_type": "code",
      "metadata": {
        "colab_type": "code",
        "cellView": "form",
        "id": "Cd8vVwGhpOqG",
        "outputId": "4dd0ace7-ff18-4548-994f-72325c9f61cb",
        "colab": {
          "base_uri": "https://localhost:8080/",
          "height": 67
        }
      },
      "source": [
        "start_date = '2016-10-16' #@param {type:\"date\"}\n",
        "end_date = '2016-10-17' #@param {type:\"date\"}\n",
        "\n",
        "print('start date for the exported csv is: ' + start_date)\n",
        "print('end date for the exported csv is: ' + end_date)\n",
        "print ('')"
      ],
      "execution_count": 0,
      "outputs": [
        {
          "output_type": "stream",
          "text": [
            "start date for the exported csv is: 2016-10-16\n",
            "end date for the exported csv is: 2016-10-17\n",
            "\n"
          ],
          "name": "stdout"
        }
      ]
    },
    {
      "cell_type": "markdown",
      "metadata": {
        "colab_type": "text",
        "id": "DqDwMZznMczU"
      },
      "source": [
        "## Filter by status codes"
      ]
    },
    {
      "cell_type": "markdown",
      "metadata": {
        "id": "H7eXjKM0tsgI",
        "colab_type": "text"
      },
      "source": [
        "Check status codes distribution"
      ]
    },
    {
      "cell_type": "code",
      "metadata": {
        "trusted": true,
        "id": "Epkukaqyxegx",
        "colab_type": "code",
        "outputId": "18f1eb53-194a-4c32-c531-0e9871beec16",
        "colab": {
          "base_uri": "https://localhost:8080/",
          "height": 197
        }
      },
      "source": [
        "DfPivotCodes = df.groupby(['httpCode']).agg({'httpCode': ['count']})\n",
        "DfPivotCodes.columns = ['_'.join(multi_index) for multi_index in DfPivotCodes.columns.ravel()]\n",
        "DfPivotCodes = DfPivotCodes.reset_index()\n",
        "DfPivotCodes"
      ],
      "execution_count": 0,
      "outputs": [
        {
          "output_type": "execute_result",
          "data": {
            "text/html": [
              "<div>\n",
              "<style scoped>\n",
              "    .dataframe tbody tr th:only-of-type {\n",
              "        vertical-align: middle;\n",
              "    }\n",
              "\n",
              "    .dataframe tbody tr th {\n",
              "        vertical-align: top;\n",
              "    }\n",
              "\n",
              "    .dataframe thead th {\n",
              "        text-align: right;\n",
              "    }\n",
              "</style>\n",
              "<table border=\"1\" class=\"dataframe\">\n",
              "  <thead>\n",
              "    <tr style=\"text-align: right;\">\n",
              "      <th></th>\n",
              "      <th>httpCode</th>\n",
              "      <th>httpCode_count</th>\n",
              "    </tr>\n",
              "  </thead>\n",
              "  <tbody>\n",
              "    <tr>\n",
              "      <th>0</th>\n",
              "      <td>200</td>\n",
              "      <td>2035</td>\n",
              "    </tr>\n",
              "    <tr>\n",
              "      <th>1</th>\n",
              "      <td>301</td>\n",
              "      <td>172</td>\n",
              "    </tr>\n",
              "    <tr>\n",
              "      <th>2</th>\n",
              "      <td>302</td>\n",
              "      <td>64</td>\n",
              "    </tr>\n",
              "    <tr>\n",
              "      <th>3</th>\n",
              "      <td>400</td>\n",
              "      <td>12</td>\n",
              "    </tr>\n",
              "    <tr>\n",
              "      <th>4</th>\n",
              "      <td>404</td>\n",
              "      <td>4</td>\n",
              "    </tr>\n",
              "  </tbody>\n",
              "</table>\n",
              "</div>"
            ],
            "text/plain": [
              "  httpCode  httpCode_count\n",
              "0      200            2035\n",
              "1      301             172\n",
              "2      302              64\n",
              "3      400              12\n",
              "4      404               4"
            ]
          },
          "metadata": {
            "tags": []
          },
          "execution_count": 31
        }
      ]
    },
    {
      "cell_type": "markdown",
      "metadata": {
        "colab_type": "text",
        "id": "9znSIDQ34nLj"
      },
      "source": [
        "Select the http status codes you would like to export to csv "
      ]
    },
    {
      "cell_type": "code",
      "metadata": {
        "id": "KJkckTDLCV01",
        "colab_type": "code",
        "cellView": "form",
        "outputId": "700b1551-d9a5-4907-9aa1-25f6fdaa587a",
        "colab": {
          "base_uri": "https://localhost:8080/",
          "height": 33
        }
      },
      "source": [
        "myNewList = []\n",
        "\n",
        "Code_2XX = True  # @param {type:\"boolean\"}\n",
        "Code_3XX = True  # @param {type:\"boolean\"}\n",
        "Code_4XX = True  # @param {type:\"boolean\"}\n",
        "Code_5XX = True  # @param {type:\"boolean\"}\n",
        "\n",
        "if Code_2XX == True:\n",
        "    myNewList.append('Success (2XX)')\n",
        "if Code_3XX == True:\n",
        "    myNewList.append('Redirects (3XX)')\n",
        "if Code_4XX == True:\n",
        "    myNewList.append('Client errors (4XX)')\n",
        "if Code_5XX == True:\n",
        "    myNewList.append('Server errors (5XX)')\n",
        "\n",
        "print (myNewList)"
      ],
      "execution_count": 0,
      "outputs": [
        {
          "output_type": "stream",
          "text": [
            "['Success (2XX)', 'Redirects (3XX)', 'Client errors (4XX)', 'Server errors (5XX)']\n"
          ],
          "name": "stdout"
        }
      ]
    },
    {
      "cell_type": "markdown",
      "metadata": {
        "colab_type": "text",
        "id": "l5TmJpsGNNLn"
      },
      "source": [
        "## Export your filtered dataset to csv"
      ]
    },
    {
      "cell_type": "markdown",
      "metadata": {
        "colab_type": "text",
        "id": "d_jZAlI-NNLs"
      },
      "source": [
        "Type a name for your csv file"
      ]
    },
    {
      "cell_type": "code",
      "metadata": {
        "id": "JP2xMRTlN7SP",
        "colab_type": "code",
        "cellView": "both",
        "colab": {}
      },
      "source": [
        "dfFiltered = df[(df['Date'] > start_date) & (df['Date'] <= end_date) & (df['httpCodeClass'].isin(myNewList))]\n",
        "\n",
        "csvName = \"csvExportNew\" #@param {type:\"string\"}\n",
        "csvName = csvName + '.csv'\n",
        "dfFiltered.to_csv(csvName)\n"
      ],
      "execution_count": 0,
      "outputs": []
    },
    {
      "cell_type": "code",
      "metadata": {
        "id": "N7njqg1ZZE-U",
        "colab_type": "code",
        "colab": {}
      },
      "source": [
        ""
      ],
      "execution_count": 0,
      "outputs": []
    }
  ]
}